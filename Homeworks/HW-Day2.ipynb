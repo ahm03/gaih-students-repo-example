{
 "cells": [
  {
   "cell_type": "code",
   "execution_count": null,
   "metadata": {},
   "outputs": [],
   "source": [
    "Liste = [\"yerli\", \"ve\", \"milli\", \"teknoloji\", \"hamlesi\", 1299, 1453, 15.7, 2016, 2023]\n",
    "Yeni_Liste = Liste[5:10] + Liste[0:5] \n",
    "Yeni_Liste"
   ]
  },
  {
   "cell_type": "code",
   "execution_count": null,
   "metadata": {},
   "outputs": [],
   "source": [
    "n = int(input(\"Please enter a single digit number: \"))\n",
    "\n",
    "listem = list(range(0,n+1,2))\n",
    "listem"
   ]
  }
 ],
 "metadata": {
  "kernelspec": {
   "display_name": "Python 3",
   "language": "python",
   "name": "python3"
  },
  "language_info": {
   "codemirror_mode": {
    "name": "ipython",
    "version": 3
   },
   "file_extension": ".py",
   "mimetype": "text/x-python",
   "name": "python",
   "nbconvert_exporter": "python",
   "pygments_lexer": "ipython3",
   "version": "3.8.5"
  }
 },
 "nbformat": 4,
 "nbformat_minor": 4
}
